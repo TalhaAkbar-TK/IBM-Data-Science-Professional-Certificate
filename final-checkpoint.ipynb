{
 "cells": [
  {
   "cell_type": "markdown",
   "id": "3fcaf0e0",
   "metadata": {},
   "source": [
    "# My Jupyter Notebook on IBM Watson Studio"
   ]
  },
  {
   "cell_type": "markdown",
   "id": "6134da56",
   "metadata": {},
   "source": [
    "## Talha Akbar"
   ]
  },
  {
   "cell_type": "markdown",
   "id": "08739bdc",
   "metadata": {},
   "source": [
    "##### 100% Human"
   ]
  },
  {
   "cell_type": "markdown",
   "id": "36cfd4b0",
   "metadata": {},
   "source": [
    "###### I am interested in data science because i love to gain insights from data"
   ]
  },
  {
   "cell_type": "markdown",
   "id": "4e084482",
   "metadata": {},
   "source": [
    "## The following code tests the Gauss formula"
   ]
  },
  {
   "cell_type": "code",
   "execution_count": 1,
   "id": "41e4fb02",
   "metadata": {
    "collapsed": true
   },
   "outputs": [
    {
     "data": {
      "text/plain": [
       "True"
      ]
     },
     "execution_count": 1,
     "metadata": {},
     "output_type": "execute_result"
    }
   ],
   "source": [
    "def gauss(n):\n",
    "    return (n*(n+1))/2\n",
    "gauss(100) == sum(range(101))"
   ]
  },
  {
   "cell_type": "markdown",
   "id": "b233ba73",
   "metadata": {},
   "source": [
    "* one\n",
    "- two\n",
    "- three\n",
    "- one \n",
    "- two\n",
    "- three"
   ]
  },
  {
   "cell_type": "markdown",
   "id": "d2ff437f",
   "metadata": {},
   "source": [
    "www.ibm.com"
   ]
  },
  {
   "cell_type": "markdown",
   "id": "bff63dce",
   "metadata": {},
   "source": [
    "|Markdown|Less  |pretty \n",
    "|---:|:-------------|:-----------\n",
    "|Still |renders  |nicely       \n",
    "|1 |2  |3    "
   ]
  }
 ],
 "metadata": {
  "celltoolbar": "Tags",
  "kernelspec": {
   "display_name": "Python 3 (ipykernel)",
   "language": "python",
   "name": "python3"
  },
  "language_info": {
   "codemirror_mode": {
    "name": "ipython",
    "version": 3
   },
   "file_extension": ".py",
   "mimetype": "text/x-python",
   "name": "python",
   "nbconvert_exporter": "python",
   "pygments_lexer": "ipython3",
   "version": "3.9.12"
  }
 },
 "nbformat": 4,
 "nbformat_minor": 5
}
